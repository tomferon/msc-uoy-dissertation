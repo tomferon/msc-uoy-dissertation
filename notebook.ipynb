{
 "cells": [
  {
   "cell_type": "code",
   "execution_count": 1,
   "metadata": {},
   "outputs": [],
   "source": [
    "import numpy\n",
    "import seaborn\n",
    "from pydissertation import Model, BasketOption, pde_pricer"
   ]
  },
  {
   "cell_type": "code",
   "execution_count": 2,
   "metadata": {},
   "outputs": [
    {
     "data": {
      "text/plain": [
       "11.72750945585991"
      ]
     },
     "execution_count": 2,
     "metadata": {},
     "output_type": "execute_result"
    }
   ],
   "source": [
    "model = Model(\n",
    "    initial_prices = [100, 50],\n",
    "    volatility = lambda t: [[0.1, 0.1], [0.1, 0.1]],\n",
    "    riskfree_rate = lambda t: 0.02,\n",
    ")\n",
    "\n",
    "option = BasketOption(\n",
    "    weights = [1, 2],\n",
    "    expiry_time = 1,\n",
    "    strike_price = 200,\n",
    ")\n",
    "\n",
    "pde_pricer(20, model, option)"
   ]
  }
 ],
 "metadata": {
  "kernelspec": {
   "display_name": "Python 3",
   "language": "python",
   "name": "python3"
  },
  "language_info": {
   "codemirror_mode": {
    "name": "ipython",
    "version": 3
   },
   "file_extension": ".py",
   "mimetype": "text/x-python",
   "name": "python",
   "nbconvert_exporter": "python",
   "pygments_lexer": "ipython3",
   "version": "3.11.9"
  }
 },
 "nbformat": 4,
 "nbformat_minor": 2
}
